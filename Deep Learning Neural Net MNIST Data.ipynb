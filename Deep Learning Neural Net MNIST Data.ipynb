{
 "cells": [
  {
   "cell_type": "code",
   "execution_count": 2,
   "metadata": {
    "scrolled": true
   },
   "outputs": [
    {
     "name": "stdout",
     "output_type": "stream",
     "text": [
      "WARNING:tensorflow:From /Library/Frameworks/Python.framework/Versions/3.5/lib/python3.5/site-packages/tensorflow/python/ops/resource_variable_ops.py:435: colocate_with (from tensorflow.python.framework.ops) is deprecated and will be removed in a future version.\n",
      "Instructions for updating:\n",
      "Colocations handled automatically by placer.\n",
      "Epoch 1/3\n",
      "60000/60000 [==============================] - 7s 113us/sample - loss: 0.2622 - acc: 0.9227s - loss: 0.2636 - acc: 0.92\n",
      "Epoch 2/3\n",
      "60000/60000 [==============================] - 8s 127us/sample - loss: 0.1083 - acc: 0.9667\n",
      "Epoch 3/3\n",
      "60000/60000 [==============================] - 8s 132us/sample - loss: 0.0737 - acc: 0.9770\n"
     ]
    },
    {
     "data": {
      "text/plain": [
       "\"\\n- Add layers one at time (think topology)\\n\\nActivation Functions\\n - rel      -> Output x if x > 0 else output 0 (linear in positive axis)\\n            -> makes network lighter as now on average only 50% of neurons fire at starting random weights\\n \\n - sigmoid  -> Ensures number is between 0 and 1 (non linear - stack layers)\\n            -> Works well for classifiers\\n \\n - tanh     -> Sigmoid -1 < x < 1 (non linear - stack layers)\\n \\n - softmax  -> normalizes vector input to a probability distribution (0, 1)\\n \\n\\nOptimizers - Most complex part of neural net. The algorithm used to update weights\\n - adam                             -> Default go to\\n - stocastic gradient descent 'SGD' -> Gradient Descent\\n\\nLoss\\n - TO-DO\\n \\nDeciding on Number of Hidden Layers and Nodes\\n - 'Most projects only require one hidden layer\\n - The numner of hidden nodes usually should be between the number of input nodes (784) and output nodes (10)\\n\\nOverfitting\\n - Memorizing all samples rather than learning the patterns\\n\\n\""
      ]
     },
     "execution_count": 2,
     "metadata": {},
     "output_type": "execute_result"
    }
   ],
   "source": [
    "import tensorflow as tf\n",
    "\n",
    "mnist = tf.keras.datasets.mnist\n",
    "\n",
    "(x_train, y_train), (x_test, y_test) = mnist.load_data()\n",
    "\n",
    "x_test_actual = x_test\n",
    "x_train = tf.keras.utils.normalize(x_train, axis=1).reshape(x_train.shape[0], -1)\n",
    "x_test = tf.keras.utils.normalize(x_test, axis=1).reshape(x_test.shape[0], -1)\n",
    "\n",
    "model = tf.keras.models.Sequential()\n",
    "model.add(tf.keras.layers.Dense(128, activation = tf.nn.relu, input_shape = x_train.shape[1:])) # hidden layer 1\n",
    "model.add(tf.keras.layers.Dense(128, activation = tf.nn.relu)) # hidden layer 2\n",
    "model.add(tf.keras.layers.Dense(10, activation = tf.nn.softmax)) #@param: num outputs, softmax\n",
    "\n",
    "model.compile(optimizer = \"adam\", \n",
    "              loss = 'sparse_categorical_crossentropy',\n",
    "              metrics = ['accuracy']\n",
    "             ) # loss = error. Minimize Loss\n",
    "\n",
    "model.fit(x_train, y_train, epochs = 3) #epocs = number of times passes through ENTIRE dataset\n",
    "\n",
    "\n",
    "#MODELS\n",
    "#Sequential Class = Feed Forward - most common\n",
    "#Model Class\n",
    "#@param: layers - list of layers to add to the model\n",
    "\n",
    "\n",
    "'''\n",
    "- Add layers one at time (think topology)\n",
    "\n",
    "Activation Functions\n",
    " - rel      -> Output x if x > 0 else output 0 (linear in positive axis)\n",
    "            -> makes network lighter as now on average only 50% of neurons fire at starting random weights\n",
    " \n",
    " - sigmoid  -> Ensures number is between 0 and 1 (non linear - stack layers)\n",
    "            -> Works well for classifiers\n",
    " \n",
    " - tanh     -> Sigmoid -1 < x < 1 (non linear - stack layers)\n",
    " \n",
    " - softmax  -> normalizes vector input to a probability distribution (0, 1)\n",
    " \n",
    "\n",
    "Optimizers - Most complex part of neural net. The algorithm used to update weights\n",
    " - adam                             -> Default go to\n",
    " - stocastic gradient descent 'SGD' -> Gradient Descent\n",
    "\n",
    "Loss\n",
    " - TO-DO\n",
    " \n",
    "Deciding on Number of Hidden Layers and Nodes\n",
    " - 'Most projects only require one hidden layer\n",
    " - The numner of hidden nodes usually should be between the number of input nodes (784) and output nodes (10)\n",
    "\n",
    "Overfitting\n",
    " - Memorizing all samples rather than learning the patterns\n",
    "\n",
    "'''\n",
    "\n",
    "\n",
    "\n",
    "\n"
   ]
  },
  {
   "cell_type": "code",
   "execution_count": 84,
   "metadata": {
    "scrolled": false
   },
   "outputs": [
    {
     "name": "stdout",
     "output_type": "stream",
     "text": [
      "10000/10000 [==============================] - 1s 105us/sample - loss: 0.0984 - acc: 0.9703\n",
      "0.0984018121900037 0.9703\n"
     ]
    }
   ],
   "source": [
    "#TESTING FOR OVER FITTING\n",
    "\n",
    "val_loss, val_acc = model.evaluate(x_test, y_test)\n",
    "print(val_loss, val_acc)\n",
    "\n",
    "#out of sample training accuracy should be lower, loss should be higher (not by a huge amount)\n",
    "#large delta = overfitting (Maybe fix by reducing num of epochs)"
   ]
  },
  {
   "cell_type": "code",
   "execution_count": 73,
   "metadata": {},
   "outputs": [],
   "source": [
    "model.save('num_reader.model')"
   ]
  },
  {
   "cell_type": "code",
   "execution_count": 74,
   "metadata": {},
   "outputs": [],
   "source": [
    "new_model = tf.keras.models.load_model('num_reader.model')\n",
    "\n",
    "import numpy as np\n",
    "import matplotlib.pyplot as plt\n",
    "\n",
    "def predict(model_test, num):\n",
    "    predictions = model_test.predict([x_test])\n",
    "    print(np.argmax(predictions[num]))\n",
    "    plt.imshow(x_test_actual[num], cmap = plt.cm.binary)\n",
    "    plt.show()"
   ]
  },
  {
   "cell_type": "code",
   "execution_count": 75,
   "metadata": {},
   "outputs": [
    {
     "name": "stdout",
     "output_type": "stream",
     "text": [
      "7\n"
     ]
    },
    {
     "data": {
      "image/png": "[encoded data removed]",
      "text/plain": [
       "<matplotlib.figure.Figure at 0x141525da0>"
      ]
     },
     "metadata": {},
     "output_type": "display_data"
    }
   ],
   "source": [
    "predict(new_model, 0)"
   ]
  },
  {
   "cell_type": "code",
   "execution_count": null,
   "metadata": {},
   "outputs": [],
   "source": []
  }
 ],
 "metadata": {
  "kernelspec": {
   "display_name": "Python 3",
   "language": "python",
   "name": "python3"
  },
  "language_info": {
   "codemirror_mode": {
    "name": "ipython",
    "version": 3
   },
   "file_extension": ".py",
   "mimetype": "text/x-python",
   "name": "python",
   "nbconvert_exporter": "python",
   "pygments_lexer": "ipython3",
   "version": "3.5.2"
  }
 },
 "nbformat": 4,
 "nbformat_minor": 2
}
